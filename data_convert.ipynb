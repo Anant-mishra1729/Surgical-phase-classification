{
 "cells": [
  {
   "cell_type": "code",
   "execution_count": 1,
   "metadata": {},
   "outputs": [],
   "source": [
    "# Splitting the data stored in the data folder to train test and validation data\n",
    "\n",
    "import os\n",
    "import shutil\n",
    "import random\n",
    "\n",
    "# Path to the directory where the original dataset is stored\n",
    "data_dir = \"data\"\n",
    "\n",
    "# Removing empty folders from each phase of the dataset\n",
    "for phase in os.listdir(data_dir):\n",
    "    for video in os.listdir(os.path.join(data_dir,phase)):\n",
    "        if len(os.listdir(os.path.join(data_dir,phase,video))) == 0:\n",
    "            os.rmdir(os.path.join(data_dir,phase,video))"
   ]
  },
  {
   "cell_type": "code",
   "execution_count": 2,
   "metadata": {},
   "outputs": [],
   "source": [
    "# Phases of the dataset\n",
    "phases = os.listdir(data_dir)\n",
    "\n",
    "# Creating train test and validation folders\n",
    "os.mkdir(f\"{data_dir}/train\")\n",
    "os.mkdir(f\"{data_dir}/test\")\n",
    "os.mkdir(f\"{data_dir}/validation\")"
   ]
  },
  {
   "cell_type": "code",
   "execution_count": 7,
   "metadata": {},
   "outputs": [
    {
     "name": "stdout",
     "output_type": "stream",
     "text": [
      "Phase: CalotTriangleDissection Train: 64 Test: 8 Validation: 8\n",
      "Phase: GallbladderDissection Train: 64 Test: 8 Validation: 8\n",
      "Phase: CleaningCoagulation Train: 59 Test: 7 Validation: 8\n",
      "Phase: GallbladderRetraction Train: 64 Test: 8 Validation: 8\n",
      "Phase: ClippingCutting Train: 64 Test: 8 Validation: 8\n",
      "Phase: Preparation Train: 56 Test: 7 Validation: 8\n",
      "Phase: GallbladderPackaging Train: 64 Test: 8 Validation: 8\n"
     ]
    }
   ],
   "source": [
    "# Dividing the data into train test and validation\n",
    "\n",
    "import os\n",
    "import shutil\n",
    "import random\n",
    "\n",
    "train_ratio = 0.8\n",
    "test_ratio = 0.1\n",
    "validation_ratio = 0.1\n",
    "data_dir = \"data\"\n",
    "\n",
    "phases = []\n",
    "for phase in os.listdir(data_dir):\n",
    "    if phase not in [\"train\",\"test\",\"validation\"]:\n",
    "        phases.append(phase)"
   ]
  },
  {
   "cell_type": "code",
   "execution_count": 7,
   "metadata": {},
   "outputs": [
    {
     "name": "stdout",
     "output_type": "stream",
     "text": [
      "Phase: CalotTriangleDissection Video: video78 Frames: 288\n",
      "Phase: GallbladderDissection Video: video60 Frames: 106\n",
      "Phase: CleaningCoagulation Video: video80 Frames: 22\n",
      "Phase: GallbladderRetraction Video: video31 Frames: 4\n",
      "Phase: ClippingCutting Video: video50 Frames: 35\n",
      "Phase: Preparation Video: video62 Frames: 20\n",
      "Phase: GallbladderPackaging Video: video04 Frames: 38\n"
     ]
    }
   ],
   "source": [
    "# Get the video with minimum number of frames in each phase of the dataset \n",
    "# and print the phase the video belongs to and the number of frames in the video\n",
    "for phase in phases:\n",
    "    min_frames = 10000000\n",
    "    min_video = \"\"\n",
    "    for video in os.listdir(os.path.join(data_dir,phase)):\n",
    "        if len(os.listdir(os.path.join(data_dir,phase,video))) < min_frames:\n",
    "            min_frames = len(os.listdir(os.path.join(data_dir,phase,video)))\n",
    "            min_video = video\n",
    "    print(f\"Phase: {phase} Video: {min_video} Frames: {min_frames}\")"
   ]
  },
  {
   "cell_type": "code",
   "execution_count": 8,
   "metadata": {},
   "outputs": [
    {
     "name": "stdout",
     "output_type": "stream",
     "text": [
      "['CalotTriangleDissection', 'GallbladderDissection', 'CleaningCoagulation', 'GallbladderRetraction', 'ClippingCutting', 'Preparation', 'GallbladderPackaging']\n"
     ]
    }
   ],
   "source": [
    "\n",
    "print(phases)"
   ]
  },
  {
   "cell_type": "code",
   "execution_count": 16,
   "metadata": {},
   "outputs": [
    {
     "name": "stdout",
     "output_type": "stream",
     "text": [
      "Phase: CalotTriangleDissection Train: 64 Test: 8 Validation: 8\n"
     ]
    },
    {
     "name": "stderr",
     "output_type": "stream",
     "text": [
      "100%|██████████| 64/64 [02:26<00:00,  2.28s/it]\n",
      "100%|██████████| 8/8 [00:47<00:00,  5.95s/it]\n",
      "100%|██████████| 8/8 [00:24<00:00,  3.06s/it]\n"
     ]
    },
    {
     "name": "stdout",
     "output_type": "stream",
     "text": [
      "CalotTriangleDissection phase completed\n",
      "Phase: GallbladderDissection Train: 64 Test: 8 Validation: 8\n"
     ]
    },
    {
     "name": "stderr",
     "output_type": "stream",
     "text": [
      "100%|██████████| 64/64 [04:05<00:00,  3.84s/it]\n",
      "100%|██████████| 8/8 [00:26<00:00,  3.35s/it]\n",
      "100%|██████████| 8/8 [00:37<00:00,  4.68s/it]\n"
     ]
    },
    {
     "name": "stdout",
     "output_type": "stream",
     "text": [
      "GallbladderDissection phase completed\n",
      "Phase: CleaningCoagulation Train: 59 Test: 7 Validation: 8\n"
     ]
    },
    {
     "name": "stderr",
     "output_type": "stream",
     "text": [
      "100%|██████████| 59/59 [01:10<00:00,  1.19s/it]\n",
      "100%|██████████| 7/7 [00:10<00:00,  1.44s/it]\n",
      "100%|██████████| 8/8 [00:08<00:00,  1.07s/it]\n"
     ]
    },
    {
     "name": "stdout",
     "output_type": "stream",
     "text": [
      "CleaningCoagulation phase completed\n",
      "Phase: GallbladderRetraction Train: 64 Test: 8 Validation: 8\n"
     ]
    },
    {
     "name": "stderr",
     "output_type": "stream",
     "text": [
      "100%|██████████| 64/64 [00:25<00:00,  2.53it/s]\n",
      "100%|██████████| 8/8 [00:04<00:00,  1.82it/s]\n",
      "100%|██████████| 8/8 [00:02<00:00,  3.55it/s]\n"
     ]
    },
    {
     "name": "stdout",
     "output_type": "stream",
     "text": [
      "GallbladderRetraction phase completed\n",
      "Phase: ClippingCutting Train: 64 Test: 8 Validation: 8\n"
     ]
    },
    {
     "name": "stderr",
     "output_type": "stream",
     "text": [
      "100%|██████████| 64/64 [01:20<00:00,  1.26s/it]\n",
      "100%|██████████| 8/8 [00:09<00:00,  1.25s/it]\n",
      "100%|██████████| 8/8 [00:07<00:00,  1.12it/s]\n"
     ]
    },
    {
     "name": "stdout",
     "output_type": "stream",
     "text": [
      "ClippingCutting phase completed\n",
      "Phase: Preparation Train: 56 Test: 7 Validation: 8\n"
     ]
    },
    {
     "name": "stderr",
     "output_type": "stream",
     "text": [
      "100%|██████████| 56/56 [00:35<00:00,  1.56it/s]\n",
      "100%|██████████| 7/7 [00:04<00:00,  1.72it/s]\n",
      "100%|██████████| 8/8 [00:08<00:00,  1.05s/it]\n"
     ]
    },
    {
     "name": "stdout",
     "output_type": "stream",
     "text": [
      "Preparation phase completed\n",
      "Phase: GallbladderPackaging Train: 64 Test: 8 Validation: 8\n"
     ]
    },
    {
     "name": "stderr",
     "output_type": "stream",
     "text": [
      "100%|██████████| 64/64 [00:33<00:00,  1.90it/s]\n",
      "100%|██████████| 8/8 [00:04<00:00,  1.74it/s]\n",
      "100%|██████████| 8/8 [00:04<00:00,  1.88it/s]"
     ]
    },
    {
     "name": "stdout",
     "output_type": "stream",
     "text": [
      "GallbladderPackaging phase completed\n"
     ]
    },
    {
     "name": "stderr",
     "output_type": "stream",
     "text": [
      "\n"
     ]
    }
   ],
   "source": [
    "# Copy the videos to the train, test and validation folders\n",
    "# Eg: data/preparation/video001 -> data/train/preparation/video001\n",
    "\n",
    "import tqdm \n",
    "\n",
    "for phase in phases:\n",
    "    videos = os.listdir(os.path.join(data_dir,phase))\n",
    "    random.shuffle(videos)\n",
    "    # Splitting the videos into train, test and validation without overlapping\n",
    "    train_videos = videos[:int(train_ratio*len(videos))]\n",
    "    test_videos = videos[int(train_ratio*len(videos)):int((train_ratio+test_ratio)*len(videos))]\n",
    "    validation_videos = videos[int((train_ratio+test_ratio)*len(videos)):]\n",
    "    # Check overlap between train, test and validation\n",
    "    assert len(set(train_videos).intersection(set(test_videos))) == 0\n",
    "    assert len(set(train_videos).intersection(set(validation_videos))) == 0\n",
    "    assert len(set(test_videos).intersection(set(validation_videos))) == 0\n",
    "\n",
    "    print(f\"Phase: {phase} Train: {len(train_videos)} Test: {len(test_videos)} Validation: {len(validation_videos)}\")\n",
    "\n",
    "    for video in tqdm.tqdm(train_videos):\n",
    "        shutil.copytree(os.path.join(data_dir,phase,video),os.path.join(data_dir,\"train\",phase,video))\n",
    "\n",
    "    for video in tqdm.tqdm(test_videos):\n",
    "        shutil.copytree(os.path.join(data_dir,phase,video),os.path.join(data_dir,\"test\",phase,video))\n",
    "\n",
    "    for video in tqdm.tqdm(validation_videos):\n",
    "        shutil.copytree(os.path.join(data_dir,phase,video),os.path.join(data_dir,\"validation\",phase,video))\n",
    "\n",
    "    print(f\"{phase} phase completed\")"
   ]
  }
 ],
 "metadata": {
  "kernelspec": {
   "display_name": "phase",
   "language": "python",
   "name": "python3"
  },
  "language_info": {
   "codemirror_mode": {
    "name": "ipython",
    "version": 3
   },
   "file_extension": ".py",
   "mimetype": "text/x-python",
   "name": "python",
   "nbconvert_exporter": "python",
   "pygments_lexer": "ipython3",
   "version": "3.9.15 (main, Nov 24 2022, 14:31:59) \n[GCC 11.2.0]"
  },
  "orig_nbformat": 4,
  "vscode": {
   "interpreter": {
    "hash": "2d3a0afbad035e90ef753cd88d3de40734e16dfdca722716f687a9c2edb8033a"
   }
  }
 },
 "nbformat": 4,
 "nbformat_minor": 2
}
