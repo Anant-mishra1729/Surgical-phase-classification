{
 "cells": [
  {
   "attachments": {},
   "cell_type": "markdown",
   "metadata": {},
   "source": [
    "### Creating Dataset"
   ]
  },
  {
   "cell_type": "code",
   "execution_count": 2,
   "metadata": {},
   "outputs": [
    {
     "data": {
      "text/html": [
       "<div>\n",
       "<style scoped>\n",
       "    .dataframe tbody tr th:only-of-type {\n",
       "        vertical-align: middle;\n",
       "    }\n",
       "\n",
       "    .dataframe tbody tr th {\n",
       "        vertical-align: top;\n",
       "    }\n",
       "\n",
       "    .dataframe thead th {\n",
       "        text-align: right;\n",
       "    }\n",
       "</style>\n",
       "<table border=\"1\" class=\"dataframe\">\n",
       "  <thead>\n",
       "    <tr style=\"text-align: right;\">\n",
       "      <th></th>\n",
       "      <th>Frame</th>\n",
       "      <th>Phase</th>\n",
       "    </tr>\n",
       "  </thead>\n",
       "  <tbody>\n",
       "    <tr>\n",
       "      <th>0</th>\n",
       "      <td>00:00:00.04</td>\n",
       "      <td>Preparation</td>\n",
       "    </tr>\n",
       "    <tr>\n",
       "      <th>1</th>\n",
       "      <td>00:00:00.08</td>\n",
       "      <td>Preparation</td>\n",
       "    </tr>\n",
       "    <tr>\n",
       "      <th>2</th>\n",
       "      <td>00:00:00.12</td>\n",
       "      <td>Preparation</td>\n",
       "    </tr>\n",
       "    <tr>\n",
       "      <th>3</th>\n",
       "      <td>00:00:00.16</td>\n",
       "      <td>Preparation</td>\n",
       "    </tr>\n",
       "    <tr>\n",
       "      <th>4</th>\n",
       "      <td>00:00:00.20</td>\n",
       "      <td>Preparation</td>\n",
       "    </tr>\n",
       "  </tbody>\n",
       "</table>\n",
       "</div>"
      ],
      "text/plain": [
       "         Frame        Phase\n",
       "0  00:00:00.04  Preparation\n",
       "1  00:00:00.08  Preparation\n",
       "2  00:00:00.12  Preparation\n",
       "3  00:00:00.16  Preparation\n",
       "4  00:00:00.20  Preparation"
      ]
     },
     "execution_count": 2,
     "metadata": {},
     "output_type": "execute_result"
    }
   ],
   "source": [
    "import pandas as pd\n",
    "df1 = pd.read_csv(\"/home/suresh/Documents/Temp_cholec/Phase_recognition/Cholec80_Real/videos/video02-timestamp.txt\",sep=\"\\t\")\n",
    "df1.head()"
   ]
  },
  {
   "attachments": {},
   "cell_type": "markdown",
   "metadata": {},
   "source": [
    "**Folders for each phase**"
   ]
  },
  {
   "cell_type": "code",
   "execution_count": 2,
   "metadata": {},
   "outputs": [
    {
     "data": {
      "text/plain": [
       "array(['Preparation', 'CalotTriangleDissection', 'ClippingCutting',\n",
       "       'GallbladderDissection', 'GallbladderPackaging',\n",
       "       'CleaningCoagulation', 'GallbladderRetraction'], dtype=object)"
      ]
     },
     "execution_count": 2,
     "metadata": {},
     "output_type": "execute_result"
    }
   ],
   "source": [
    "pd.unique(df1.Phase)"
   ]
  },
  {
   "cell_type": "code",
   "execution_count": 4,
   "metadata": {},
   "outputs": [],
   "source": [
    "import os\n",
    "for folder in pd.unique(df1.Phase):\n",
    "    os.mkdir(f\"/home/suresh/Documents/Temp_cholec/Phase_recognition/cholec80/data/{folder}\")"
   ]
  },
  {
   "attachments": {},
   "cell_type": "markdown",
   "metadata": {},
   "source": [
    "**Creating Frame label annotations at 1 fps**"
   ]
  },
  {
   "cell_type": "code",
   "execution_count": 15,
   "metadata": {},
   "outputs": [],
   "source": [
    "df2 = pd.read_csv(\"/home/suresh/Documents/Temp_cholec/Phase_recognition/Cholec80_Real/phase_annotations/video01-phase.txt\",sep=\"\\t\")"
   ]
  },
  {
   "cell_type": "code",
   "execution_count": 16,
   "metadata": {},
   "outputs": [
    {
     "data": {
      "text/html": [
       "<div>\n",
       "<style scoped>\n",
       "    .dataframe tbody tr th:only-of-type {\n",
       "        vertical-align: middle;\n",
       "    }\n",
       "\n",
       "    .dataframe tbody tr th {\n",
       "        vertical-align: top;\n",
       "    }\n",
       "\n",
       "    .dataframe thead th {\n",
       "        text-align: right;\n",
       "    }\n",
       "</style>\n",
       "<table border=\"1\" class=\"dataframe\">\n",
       "  <thead>\n",
       "    <tr style=\"text-align: right;\">\n",
       "      <th></th>\n",
       "      <th>Frame</th>\n",
       "      <th>Phase</th>\n",
       "    </tr>\n",
       "  </thead>\n",
       "  <tbody>\n",
       "    <tr>\n",
       "      <th>0</th>\n",
       "      <td>0</td>\n",
       "      <td>Preparation</td>\n",
       "    </tr>\n",
       "    <tr>\n",
       "      <th>1</th>\n",
       "      <td>1</td>\n",
       "      <td>Preparation</td>\n",
       "    </tr>\n",
       "    <tr>\n",
       "      <th>2</th>\n",
       "      <td>2</td>\n",
       "      <td>Preparation</td>\n",
       "    </tr>\n",
       "    <tr>\n",
       "      <th>3</th>\n",
       "      <td>3</td>\n",
       "      <td>Preparation</td>\n",
       "    </tr>\n",
       "    <tr>\n",
       "      <th>4</th>\n",
       "      <td>4</td>\n",
       "      <td>Preparation</td>\n",
       "    </tr>\n",
       "  </tbody>\n",
       "</table>\n",
       "</div>"
      ],
      "text/plain": [
       "   Frame        Phase\n",
       "0      0  Preparation\n",
       "1      1  Preparation\n",
       "2      2  Preparation\n",
       "3      3  Preparation\n",
       "4      4  Preparation"
      ]
     },
     "execution_count": 16,
     "metadata": {},
     "output_type": "execute_result"
    }
   ],
   "source": [
    "df2.head()"
   ]
  },
  {
   "cell_type": "code",
   "execution_count": 25,
   "metadata": {},
   "outputs": [],
   "source": [
    "import os\n",
    "phase_dir = \"cholec80/phase_annotations_prev\"\n",
    "for phase_annot in os.listdir(\"cholec80/phase_annotations_prev\"):\n",
    "    df = pd.read_csv(f\"{phase_dir}/{phase_annot}\",index_col=False)\n",
    "    df = df.iloc[range(0,len(df)-1,25)]\n",
    "    df.to_csv(f\"cholec80/phase_annotations/{phase_annot.split('.')[0]}.csv\",index=False)"
   ]
  },
  {
   "attachments": {},
   "cell_type": "markdown",
   "metadata": {},
   "source": [
    "**Separating frames and labels into folders of phases**"
   ]
  },
  {
   "cell_type": "code",
   "execution_count": 5,
   "metadata": {},
   "outputs": [],
   "source": [
    "frames_dir = \"/home/suresh/Documents/Temp_cholec/Phase_recognition/cholec80/frames\"\n",
    "data_dir = \"/home/suresh/Documents/Temp_cholec/Phase_recognition/cholec80/data\"\n",
    "for phase_dir in os.listdir(data_dir):\n",
    "    for video_dir in os.listdir(frames_dir):\n",
    "        os.mkdir(f\"{data_dir}/{phase_dir}/{video_dir}\")"
   ]
  },
  {
   "cell_type": "code",
   "execution_count": 10,
   "metadata": {},
   "outputs": [
    {
     "name": "stdout",
     "output_type": "stream",
     "text": [
      "      Frame                  Phase\n",
      "2866  71650  GallbladderRetraction\n",
      "2867  71675  GallbladderRetraction\n",
      "2868  71700  GallbladderRetraction\n",
      "2869  71725  GallbladderRetraction\n",
      "2870  71750  GallbladderRetraction\n",
      "2871  71775  GallbladderRetraction\n",
      "2872  71800  GallbladderRetraction\n",
      "2873  71825  GallbladderRetraction\n",
      "2874  71850  GallbladderRetraction\n",
      "2875  71875  GallbladderRetraction\n",
      "2876  71900  GallbladderRetraction\n",
      "2877  71925  GallbladderRetraction\n",
      "2878  71950  GallbladderRetraction\n",
      "2879  71975  GallbladderRetraction\n",
      "2880  72000  GallbladderRetraction\n",
      "2881  72025  GallbladderRetraction\n",
      "2882  72050  GallbladderRetraction\n",
      "2883  72075  GallbladderRetraction\n",
      "2884  72100  GallbladderRetraction\n",
      "2885  72125  GallbladderRetraction\n",
      "2886  72150  GallbladderRetraction\n",
      "2887  72175  GallbladderRetraction\n",
      "2888  72200  GallbladderRetraction\n",
      "2889  72225  GallbladderRetraction\n",
      "2890  72250  GallbladderRetraction\n",
      "2891  72275  GallbladderRetraction\n",
      "2892  72300  GallbladderRetraction\n",
      "2893  72325  GallbladderRetraction\n",
      "2894  72350  GallbladderRetraction\n",
      "2895  72375  GallbladderRetraction\n",
      "2896  72400  GallbladderRetraction\n",
      "2897  72425  GallbladderRetraction\n",
      "2898  72450  GallbladderRetraction\n",
      "2899  72475  GallbladderRetraction\n",
      "2900  72500  GallbladderRetraction\n",
      "2901  72525  GallbladderRetraction\n",
      "2902  72550  GallbladderRetraction\n",
      "2903  72575  GallbladderRetraction\n",
      "2904  72600  GallbladderRetraction\n",
      "2905  72625  GallbladderRetraction\n",
      "2906  72650  GallbladderRetraction\n",
      "2907  72675  GallbladderRetraction\n",
      "2908  72700  GallbladderRetraction\n",
      "2909  72725  GallbladderRetraction\n",
      "2910  72750  GallbladderRetraction\n",
      "2911  72775  GallbladderRetraction\n",
      "2912  72800  GallbladderRetraction\n",
      "2913  72825  GallbladderRetraction\n",
      "2914  72850  GallbladderRetraction\n",
      "2915  72875  GallbladderRetraction\n",
      "2916  72900  GallbladderRetraction\n",
      "2917  72925  GallbladderRetraction\n",
      "2918  72950  GallbladderRetraction\n",
      "2919  72975  GallbladderRetraction\n",
      "2920  73000  GallbladderRetraction\n",
      "2921  73025  GallbladderRetraction\n",
      "2922  73050  GallbladderRetraction\n",
      "2923  73075  GallbladderRetraction\n",
      "2924  73100  GallbladderRetraction\n"
     ]
    }
   ],
   "source": [
    "# Copying frames to respective phase folders using the phase annotations\n",
    "import os\n",
    "import shutil\n",
    "import pandas as pd\n",
    "phase_dir = \"/home/suresh/Documents/Temp_cholec/Phase_recognition/cholec80/phase_annotations\"\n",
    "frames_dir = \"/home/suresh/Documents/Temp_cholec/Phase_recognition/cholec80/frames\"\n",
    "data_dir = \"/home/suresh/Documents/Temp_cholec/Phase_recognition/cholec80/data\"\n",
    "phases = ['Preparation', 'CalotTriangleDissection', 'ClippingCutting', 'GallbladderDissection', 'GallbladderPackaging', 'CleaningCoagulation', 'GallbladderRetraction']\n",
    "for phase_annot in os.listdir(phase_dir):\n",
    "    df = pd.read_csv(f\"{phase_dir}/{phase_annot}\", sep= \"\\t\")\n",
    "    preparation = df[df.Phase == \"Preparation\"]\n",
    "    calot_triangle_dissection = df[df.Phase == \"CalotTriangleDissection\"]\n",
    "    clipping_cutting = df[df.Phase == \"ClippingCutting\"]\n",
    "    gallbladder_dissection = df[df.Phase == \"GallbladderDissection\"]\n",
    "    gallbladder_packaging = df[df.Phase == \"GallbladderPackaging\"]\n",
    "    cleaning_coagulation = df[df.Phase == \"CleaningCoagulation\"]\n",
    "    gallbladder_retraction = df[df.Phase == \"GallbladderRetraction\"]\n",
    "    print(gallbladder_retraction['Frame'].values)\n",
    "    break"
   ]
  },
  {
   "cell_type": "code",
   "execution_count": 2,
   "metadata": {},
   "outputs": [],
   "source": [
    "# Code to remove all png files from the data folder using os.walk\n",
    "import os\n",
    "for root, dirs, files in os.walk(\"/home/suresh/Documents/Temp_cholec/Phase_recognition/cholec80/data\"):\n",
    "    for file in files:\n",
    "        if file.endswith(\".png\"):\n",
    "            os.remove(os.path.join(root, file))"
   ]
  },
  {
   "cell_type": "code",
   "execution_count": 9,
   "metadata": {},
   "outputs": [
    {
     "name": "stdout",
     "output_type": "stream",
     "text": [
      "Done with video01-phase.txt\n",
      "Done with video02-phase.txt\n",
      "Done with video03-phase.txt\n",
      "Done with video04-phase.txt\n",
      "Done with video05-phase.txt\n",
      "Done with video06-phase.txt\n",
      "Done with video07-phase.txt\n",
      "Done with video08-phase.txt\n",
      "Done with video09-phase.txt\n",
      "Done with video10-phase.txt\n",
      "Done with video11-phase.txt\n",
      "Done with video12-phase.txt\n",
      "Done with video13-phase.txt\n",
      "Done with video14-phase.txt\n",
      "Done with video15-phase.txt\n",
      "Done with video16-phase.txt\n",
      "Done with video17-phase.txt\n",
      "Done with video18-phase.txt\n",
      "Done with video19-phase.txt\n",
      "Done with video20-phase.txt\n",
      "Done with video21-phase.txt\n",
      "Done with video22-phase.txt\n",
      "Done with video23-phase.txt\n",
      "Done with video24-phase.txt\n",
      "Done with video25-phase.txt\n",
      "Done with video26-phase.txt\n",
      "Done with video27-phase.txt\n",
      "Done with video28-phase.txt\n",
      "Done with video29-phase.txt\n",
      "Done with video30-phase.txt\n",
      "Done with video31-phase.txt\n",
      "Done with video32-phase.txt\n",
      "Done with video33-phase.txt\n",
      "Done with video34-phase.txt\n",
      "Done with video35-phase.txt\n",
      "Done with video36-phase.txt\n",
      "Done with video37-phase.txt\n",
      "Done with video38-phase.txt\n",
      "Done with video39-phase.txt\n",
      "Done with video40-phase.txt\n",
      "Done with video41-phase.txt\n",
      "Done with video42-phase.txt\n",
      "Done with video43-phase.txt\n",
      "Done with video44-phase.txt\n",
      "Done with video45-phase.txt\n",
      "Done with video46-phase.txt\n",
      "Done with video47-phase.txt\n",
      "Done with video48-phase.txt\n",
      "Done with video49-phase.txt\n",
      "Done with video50-phase.txt\n",
      "Done with video51-phase.txt\n",
      "Done with video52-phase.txt\n",
      "Done with video53-phase.txt\n",
      "Done with video54-phase.txt\n",
      "Done with video55-phase.txt\n",
      "Done with video56-phase.txt\n",
      "Done with video57-phase.txt\n",
      "Done with video58-phase.txt\n",
      "Done with video59-phase.txt\n",
      "Done with video60-phase.txt\n",
      "Done with video61-phase.txt\n",
      "Done with video62-phase.txt\n",
      "Done with video63-phase.txt\n",
      "Done with video64-phase.txt\n",
      "Done with video65-phase.txt\n",
      "Done with video66-phase.txt\n",
      "Done with video67-phase.txt\n",
      "Done with video68-phase.txt\n",
      "Done with video69-phase.txt\n",
      "Done with video70-phase.txt\n",
      "Done with video71-phase.txt\n",
      "Done with video72-phase.txt\n",
      "Done with video73-phase.txt\n",
      "Done with video74-phase.txt\n",
      "Done with video75-phase.txt\n",
      "Done with video76-phase.txt\n",
      "Done with video77-phase.txt\n",
      "Done with video78-phase.txt\n",
      "Done with video79-phase.txt\n",
      "Done with video80-phase.txt\n"
     ]
    }
   ],
   "source": [
    "# Code to copy frames to respective videos in respective phases using phase annotations\n",
    "import os\n",
    "import shutil\n",
    "import pandas as pd\n",
    "phase_dir = \"/home/suresh/Documents/Temp_cholec/Phase_recognition/cholec80/phase_annotations\"\n",
    "frames_dir = \"/home/suresh/Documents/Temp_cholec/Phase_recognition/cholec80/frames\"\n",
    "data_dir = \"/home/suresh/Documents/Temp_cholec/Phase_recognition/cholec80/data\"\n",
    "phases = ['Preparation', 'CalotTriangleDissection', 'ClippingCutting', 'GallbladderDissection', 'GallbladderPackaging', 'CleaningCoagulation', 'GallbladderRetraction']\n",
    "for phase_annot in sorted(os.listdir(phase_dir)):\n",
    "    df = pd.read_csv(f\"{phase_dir}/{phase_annot}\", sep= \"\\t\", index_col=False)\n",
    "    preparation = df[df.Phase == \"Preparation\"]['Frame'].values\n",
    "    calot_triangle_dissection = df[df.Phase == \"CalotTriangleDissection\"]['Frame'].values\n",
    "    clipping_cutting = df[df.Phase == \"ClippingCutting\"]['Frame'].values\n",
    "    gallbladder_dissection = df[df.Phase == \"GallbladderDissection\"]['Frame'].values\n",
    "    gallbladder_packaging = df[df.Phase == \"GallbladderPackaging\"]['Frame'].values\n",
    "    cleaning_coagulation = df[df.Phase == \"CleaningCoagulation\"]['Frame'].values\n",
    "    gallbladder_retraction = df[df.Phase == \"GallbladderRetraction\"]['Frame'].values\n",
    "    # Copy preparation frames to data/Preparation/ in respective videos\n",
    "    for frame in preparation:\n",
    "        shutil.copy(frame,f\"{data_dir}/Preparation/{(phase_annot.split('.')[0]).split('-')[0]}\")\n",
    "    # Copy calot_triangle_dissection frames to data/CalotTriangleDissection/ in respective videos\n",
    "    for frame in calot_triangle_dissection:\n",
    "        shutil.copy(frame,f\"{data_dir}/CalotTriangleDissection/{(phase_annot.split('.')[0]).split('-')[0]}\")\n",
    "    # Copy clipping_cutting frames to data/ClippingCutting/ in respective videos\n",
    "    for frame in clipping_cutting:\n",
    "        shutil.copy(frame,f\"{data_dir}/ClippingCutting/{(phase_annot.split('.')[0]).split('-')[0]}\")\n",
    "    # Copy gallbladder_dissection frames to data/GallbladderDissection/ in respective videos\n",
    "    for frame in gallbladder_dissection:\n",
    "        shutil.copy(frame,f\"{data_dir}/GallbladderDissection/{(phase_annot.split('.')[0]).split('-')[0]}\")\n",
    "    # Copy gallbladder_packaging frames to data/GallbladderPackaging/ in respective videos\n",
    "    for frame in gallbladder_packaging:\n",
    "        shutil.copy(frame,f\"{data_dir}/GallbladderPackaging/{(phase_annot.split('.')[0]).split('-')[0]}\")\n",
    "    # Copy cleaning_coagulation frames to data/CleaningCoagulation/ in respective videos\n",
    "    for frame in cleaning_coagulation:\n",
    "        shutil.copy(frame,f\"{data_dir}/CleaningCoagulation/{(phase_annot.split('.')[0]).split('-')[0]}\")\n",
    "    # Copy gallbladder_retraction frames to data/GallbladderRetraction/ in respective videos\n",
    "    for frame in gallbladder_retraction:\n",
    "        shutil.copy(frame,f\"{data_dir}/GallbladderRetraction/{(phase_annot.split('.')[0]).split('-')[0]}\")\n",
    "    \n",
    "    print(f\"Done with {phase_annot}\")"
   ]
  },
  {
   "cell_type": "code",
   "execution_count": 19,
   "metadata": {},
   "outputs": [
    {
     "data": {
      "text/html": [
       "<div>\n",
       "<style scoped>\n",
       "    .dataframe tbody tr th:only-of-type {\n",
       "        vertical-align: middle;\n",
       "    }\n",
       "\n",
       "    .dataframe tbody tr th {\n",
       "        vertical-align: top;\n",
       "    }\n",
       "\n",
       "    .dataframe thead th {\n",
       "        text-align: right;\n",
       "    }\n",
       "</style>\n",
       "<table border=\"1\" class=\"dataframe\">\n",
       "  <thead>\n",
       "    <tr style=\"text-align: right;\">\n",
       "      <th></th>\n",
       "      <th>Frame</th>\n",
       "      <th>Phase</th>\n",
       "    </tr>\n",
       "  </thead>\n",
       "  <tbody>\n",
       "    <tr>\n",
       "      <th>0</th>\n",
       "      <td>cholec80/frames/video01/video01_000001.png</td>\n",
       "      <td>Preparation</td>\n",
       "    </tr>\n",
       "    <tr>\n",
       "      <th>1</th>\n",
       "      <td>cholec80/frames/video01/video01_000002.png</td>\n",
       "      <td>Preparation</td>\n",
       "    </tr>\n",
       "    <tr>\n",
       "      <th>2</th>\n",
       "      <td>cholec80/frames/video01/video01_000003.png</td>\n",
       "      <td>Preparation</td>\n",
       "    </tr>\n",
       "    <tr>\n",
       "      <th>3</th>\n",
       "      <td>cholec80/frames/video01/video01_000004.png</td>\n",
       "      <td>Preparation</td>\n",
       "    </tr>\n",
       "    <tr>\n",
       "      <th>4</th>\n",
       "      <td>cholec80/frames/video01/video01_000005.png</td>\n",
       "      <td>Preparation</td>\n",
       "    </tr>\n",
       "  </tbody>\n",
       "</table>\n",
       "</div>"
      ],
      "text/plain": [
       "                                        Frame        Phase\n",
       "0  cholec80/frames/video01/video01_000001.png  Preparation\n",
       "1  cholec80/frames/video01/video01_000002.png  Preparation\n",
       "2  cholec80/frames/video01/video01_000003.png  Preparation\n",
       "3  cholec80/frames/video01/video01_000004.png  Preparation\n",
       "4  cholec80/frames/video01/video01_000005.png  Preparation"
      ]
     },
     "execution_count": 19,
     "metadata": {},
     "output_type": "execute_result"
    }
   ],
   "source": [
    "# Read the phase annotations and create a dataframe\n",
    "import os\n",
    "import pandas as pd\n",
    "df = pd.read_csv(\"/home/suresh/Documents/Temp_cholec/Phase_recognition/phase_annotations/video01-phase.txt\", sep= \"\\t\", index_col=False)\n",
    "# Split the frame column to keep only th\n",
    "for i in range(len(df)):\n",
    "    df.iloc[i]['Frame'] = '/'.join(df.iloc[i]['Frame'].split('/')[6:])\n",
    "\n",
    "df.head()"
   ]
  },
  {
   "cell_type": "code",
   "execution_count": 18,
   "metadata": {},
   "outputs": [
    {
     "data": {
      "text/plain": [
       "'cholec80/frames/video01/video01_000001.png'"
      ]
     },
     "execution_count": 18,
     "metadata": {},
     "output_type": "execute_result"
    }
   ],
   "source": []
  }
 ],
 "metadata": {
  "kernelspec": {
   "display_name": "phase",
   "language": "python",
   "name": "python3"
  },
  "language_info": {
   "codemirror_mode": {
    "name": "ipython",
    "version": 3
   },
   "file_extension": ".py",
   "mimetype": "text/x-python",
   "name": "python",
   "nbconvert_exporter": "python",
   "pygments_lexer": "ipython3",
   "version": "3.9.15 (main, Nov 24 2022, 14:31:59) \n[GCC 11.2.0]"
  },
  "orig_nbformat": 4,
  "vscode": {
   "interpreter": {
    "hash": "2d3a0afbad035e90ef753cd88d3de40734e16dfdca722716f687a9c2edb8033a"
   }
  }
 },
 "nbformat": 4,
 "nbformat_minor": 2
}
