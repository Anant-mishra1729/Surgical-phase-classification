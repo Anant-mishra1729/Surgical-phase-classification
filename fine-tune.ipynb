{
 "cells": [
  {
   "cell_type": "code",
   "execution_count": null,
   "metadata": {},
   "outputs": [],
   "source": [
    "import tensorflow as tf\n",
    "from transformers import TFAutoModel, AutoTokenizer\n",
    "import os\n",
    "\n",
    "# Data preprocessing\n",
    "# Load the data\n",
    "data_dir = 'data'\n",
    "train_dir = os.path.join(data_dir, 'train')\n",
    "val_dir = os.path.join(data_dir, 'validation')\n",
    "test_dir = os.path.join(data_dir, 'test')\n",
    "\n",
    "num_classes = len(os.listdir(train_dir))"
   ]
  },
  {
   "cell_type": "code",
   "execution_count": null,
   "metadata": {},
   "outputs": [],
   "source": [
    "# Instantiate the model and tokenizer\n",
    "model = TFAutoModel.from_pretrained(\"google/vit-base-tf\")\n",
    "tokenizer = AutoTokenizer.from_pretrained(\"google/vit-base-tf\")\n",
    "\n",
    "# Define input tensors\n",
    "video_inputs = tf.keras.layers.Input(shape=(None, None, 3), dtype=tf.float32)\n",
    "video_features = model(video_inputs)\n",
    "\n",
    "# Train the model\n",
    "# Add a classification head on top\n",
    "classification_head = tf.keras.layers.Dense(num_classes, activation='softmax')(video_features)"
   ]
  },
  {
   "cell_type": "code",
   "execution_count": null,
   "metadata": {},
   "outputs": [],
   "source": [
    "# Build the model\n",
    "model = tf.keras.Model(inputs=video_inputs, outputs=classification_head)\n",
    "\n",
    "# Compile the model\n",
    "model.compile(optimizer='adam', loss='categorical_crossentropy', metrics=['accuracy'])"
   ]
  },
  {
   "cell_type": "code",
   "execution_count": null,
   "metadata": {},
   "outputs": [],
   "source": [
    "# Load a video using TensorFlow's VideoReader\n",
    "video = tf.keras.preprocessing.image.load_img('path/to/video.mp4')\n",
    "\n",
    "# Extract `n` frames from the video\n",
    "frame_count = 20\n",
    "frame_interval = int(video.shape[0] / frame_count)\n",
    "frames = [video[i * frame_interval] for i in range(frame_count)]\n",
    "\n",
    "# Convert the frames to a tensor\n",
    "frames = tf.stack(frames)\n",
    "\n",
    "# Perform inference on the frames\n",
    "predictions = model(frames)\n",
    "\n",
    "# Extract the class with the highest probability\n",
    "class_idx = tf.argmax(predictions, axis=-1)\n",
    "\n",
    "# Print the class label\n",
    "print(\"Predicted class: \", class_idx)"
   ]
  }
 ],
 "metadata": {
  "kernelspec": {
   "display_name": "phase",
   "language": "python",
   "name": "python3"
  },
  "language_info": {
   "name": "python",
   "version": "3.9.15 (main, Nov 24 2022, 14:31:59) \n[GCC 11.2.0]"
  },
  "orig_nbformat": 4,
  "vscode": {
   "interpreter": {
    "hash": "2d3a0afbad035e90ef753cd88d3de40734e16dfdca722716f687a9c2edb8033a"
   }
  }
 },
 "nbformat": 4,
 "nbformat_minor": 2
}
